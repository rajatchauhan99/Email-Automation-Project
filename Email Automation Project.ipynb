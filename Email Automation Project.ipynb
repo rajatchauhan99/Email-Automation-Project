{
 "cells": [
  {
   "cell_type": "markdown",
   "id": "5ab763cb",
   "metadata": {},
   "source": [
    "## Problem Statement"
   ]
  },
  {
   "cell_type": "markdown",
   "id": "db0e4154",
   "metadata": {},
   "source": [
    "You need to create a email reminder program for the students of a course series which sends reminder email to the students just before the class day. \n",
    "But if the class happens on Monday, the reminder should go on Friday. (the class will happen only on weekdays)\n",
    "\n",
    "Currently only one student has enrolled in the course with the\n",
    "mail id:help@onelearn.io\n",
    "name: OneLearner\n",
    "\n",
    "The schedule of the class is given in schedule.txt in the below format (mentioning the dates on which the class will happen along with topic name separated by '-'.) \n",
    "(the file is provided at this link, please download the file - https://drive.google.com/file/d/1SSw5fovKiyFzThXKvEgYn-j3tvK6FKNf/view?usp=sharing)"
   ]
  },
  {
   "cell_type": "markdown",
   "id": "ea88c479",
   "metadata": {},
   "source": [
    "**Important Notes:<br>**\n",
    "1. Please create a reminder_mail.py file which executes the above email reminder program. \n",
    "\n",
    "2. The email reminder program `reminder_mail.py` should be run everyday at 12:00 PM by automatic scheduling so that the student gets the mail one day before the class on 12:00 PM. For eg. if the class is on Friday, the student should get the mail on Thursday 12:00 PM.\n",
    "\n",
    "3. The emails should be sent from your email id to the students email id. \n",
    "\n",
    "4. The email's subject and body should be written in the below manner<br> \n",
    "`Subject - OneLearn course series reminder`\n",
    "\n",
    "    `body - This is a reminder mail for your class on <Topic name of the day taken from schedule.txt> at <given date and time from schedule.txt>. Please join the class on time.`\n",
    "\n",
    "    For eg. for the class on 25 july 2022, the mail will go out on 12:00PM on 22 July 2022(as 25 july 2022 is monday). The mail's subject and body will be<br>\n",
    "    Subject - OneLearn course series reminder\n",
    "\n",
    "    Body - This is a reminder mail for your class on Class 1 Mod 1 at 2021 25 july 11:00 AM. Please join the class on time.\n",
    "\n",
    "\n",
    "5. Once you are finished with the script, you need to put the script for automatic scheduling for 8 days. The script will be sending mails to the student according to the above schedule.txt file requirement.(we will monitor if we are getting the appropriate mails or not). Remember that when there is no class the next day, don't send any email. (Specifically if the class is on Monday, don't send any reminder mail on Sunday for it, it should be sent on prior Friday)\n",
    "\n",
    "**Additional Notes:<br>**\n",
    "* Automatic scheduling of email can be done using the 'Task Scheduler' Program in windows. After 8 days you may need to delete the daily automatic schedule of email reminder program.\n",
    "\n",
    "* Automatic scheduling will be running from your computer so remember that you may need to open your computer around 12:00 PM everyday when your program is running. You need to have the reminder_mail.py on your computer in order to run this script everyday from your computer.\n",
    "    \n",
    "* You can use this tutorial to learn how to send emails and run automatic scheduling program - https://onelearn.notion.site/Email-Reminder-Program-Tutorials-8b9e612a7a7046588c4c2e26661a7a94\n",
    "\n",
    "* You need to work with smptlib library in order to send emails and login to your email id using the script file. When you are logging in you will need to provide your email id and password to the program. Please provide these two parameters as command line arguments to the script, don't put them in the script file `reminder_mail.py` as it might lead to privacy voilation of your details.\n",
    "\n",
    "* Please share reminder_mail.py file with us after you complete the program.\n",
    "\n",
    "**Evaluation Criteria**<br>\n",
    "* Completion and correctness of the code\n",
    "*Efficient use of functions in order to solve the complete problem (testing your coding plus breakup of problem statement).\n",
    "* Logic used to build the reminder functionality\n",
    "* User friendly variable names and function names. We will also check if you have done proper modules imports or not.\n",
    "* Ensuring that **none** of the personal information comes up in reminder_mail.py file that you share with us.\n",
    "\n",
    "\n",
    "PS:  Please inform us before you start automatic scheduling. We will monitor the mails for the next 8 days to check if your script is working fine or not. "
   ]
  },
  {
   "cell_type": "markdown",
   "id": "5a13bbef",
   "metadata": {},
   "source": [
    "## Data identification and collection"
   ]
  },
  {
   "cell_type": "markdown",
   "id": "60520129",
   "metadata": {},
   "source": [
    "The schedule of the class is given in schedule.txt in the below format (mentioning the dates on which the class will happen along with topic name separated by '-'.)  \n",
    "https://drive.google.com/file/d/1SSw5fovKiyFzThXKvEgYn-j3tvK6FKNf/view?usp=sharing)"
   ]
  },
  {
   "cell_type": "code",
   "execution_count": 1,
   "id": "84cc8b23",
   "metadata": {},
   "outputs": [
    {
     "name": "stdout",
     "output_type": "stream",
     "text": [
      "              0         1   2  3      4   5    6  7\n",
      "0    2022-07-25  11:00:00  AM  -  Class   1  Mod  1\n",
      "1    2022-07-26  11:00:00  AM  -  Class   1  Mod  1\n",
      "2    2022-07-27  11:00:00  AM  -  Class   1  Mod  2\n",
      "3    2022-07-28  11:00:00  AM  -  Class   1  Mod  3\n",
      "4    2022-07-29  11:00:00  AM  -  Class   1  Mod  4\n",
      "..          ...       ...  .. ..    ...  ..  ... ..\n",
      "261  2023-07-25  11:00:00  AM  -  Class  29  Mod  9\n",
      "262  2023-07-26  11:00:00  AM  -  Class  30  Mod  1\n",
      "263  2023-07-27  11:00:00  AM  -  Class  30  Mod  2\n",
      "264  2023-07-28  11:00:00  AM  -  Class  30  Mod  3\n",
      "265  2023-07-31  11:00:00  AM  -  Class  30  Mod  4\n",
      "\n",
      "[266 rows x 8 columns]\n"
     ]
    }
   ],
   "source": [
    "# first we downloaded the file using the given link into our local system\n",
    "\n",
    "# file location of schedule\n",
    "\n",
    "file_loc = '~/Desktop/Data/Email Automation Project/schedule.txt'\n",
    "\n",
    "# Read Text Files with Pandas using read_csv() using ' ' space as the seperator\n",
    "  \n",
    "# importing pandas\n",
    "\n",
    "import pandas as pd\n",
    "  \n",
    "# read text file into pandas DataFrame using space as the seperator lets see how it looks and\n",
    "# lets keep headers none initially\n",
    "\n",
    "df = pd.read_csv(file_loc, sep=\" \", header=None)\n",
    "  \n",
    "# display DataFrame\n",
    "\n",
    "print(df)\n"
   ]
  },
  {
   "cell_type": "markdown",
   "id": "b05deaa2",
   "metadata": {},
   "source": [
    "now the data looks better with proper rows and columns but so many extra columns are being created which better could be merged and column headings could be provide"
   ]
  },
  {
   "cell_type": "markdown",
   "id": "3e7f23d1",
   "metadata": {},
   "source": [
    "we can merge column 1 and column 2 denoting Class_Time\n",
    "\n",
    "similary we can merge columns 4 and 5 denoting Class_Name, and 6 and 7 denoting Class_Mode respectively"
   ]
  },
  {
   "cell_type": "code",
   "execution_count": 2,
   "id": "c62e0ebe",
   "metadata": {},
   "outputs": [],
   "source": [
    "df['Date'] = df[0]\n",
    "\n",
    "df['Class Time'] = df[1] + ' ' + df[2]\n",
    "\n",
    "df['Class Name'] = df[4].astype(str) + ' ' + df[5].astype(str)\n",
    "\n",
    "df['Class Mode'] = df[6].astype(str) + ' ' + df[7].astype(str)"
   ]
  },
  {
   "cell_type": "code",
   "execution_count": 3,
   "id": "133df2cf",
   "metadata": {},
   "outputs": [
    {
     "data": {
      "text/html": [
       "<div>\n",
       "<style scoped>\n",
       "    .dataframe tbody tr th:only-of-type {\n",
       "        vertical-align: middle;\n",
       "    }\n",
       "\n",
       "    .dataframe tbody tr th {\n",
       "        vertical-align: top;\n",
       "    }\n",
       "\n",
       "    .dataframe thead th {\n",
       "        text-align: right;\n",
       "    }\n",
       "</style>\n",
       "<table border=\"1\" class=\"dataframe\">\n",
       "  <thead>\n",
       "    <tr style=\"text-align: right;\">\n",
       "      <th></th>\n",
       "      <th>0</th>\n",
       "      <th>1</th>\n",
       "      <th>2</th>\n",
       "      <th>3</th>\n",
       "      <th>4</th>\n",
       "      <th>5</th>\n",
       "      <th>6</th>\n",
       "      <th>7</th>\n",
       "      <th>Date</th>\n",
       "      <th>Class Time</th>\n",
       "      <th>Class Name</th>\n",
       "      <th>Class Mode</th>\n",
       "    </tr>\n",
       "  </thead>\n",
       "  <tbody>\n",
       "    <tr>\n",
       "      <th>0</th>\n",
       "      <td>2022-07-25</td>\n",
       "      <td>11:00:00</td>\n",
       "      <td>AM</td>\n",
       "      <td>-</td>\n",
       "      <td>Class</td>\n",
       "      <td>1</td>\n",
       "      <td>Mod</td>\n",
       "      <td>1</td>\n",
       "      <td>2022-07-25</td>\n",
       "      <td>11:00:00 AM</td>\n",
       "      <td>Class 1</td>\n",
       "      <td>Mod 1</td>\n",
       "    </tr>\n",
       "    <tr>\n",
       "      <th>1</th>\n",
       "      <td>2022-07-26</td>\n",
       "      <td>11:00:00</td>\n",
       "      <td>AM</td>\n",
       "      <td>-</td>\n",
       "      <td>Class</td>\n",
       "      <td>1</td>\n",
       "      <td>Mod</td>\n",
       "      <td>1</td>\n",
       "      <td>2022-07-26</td>\n",
       "      <td>11:00:00 AM</td>\n",
       "      <td>Class 1</td>\n",
       "      <td>Mod 1</td>\n",
       "    </tr>\n",
       "    <tr>\n",
       "      <th>2</th>\n",
       "      <td>2022-07-27</td>\n",
       "      <td>11:00:00</td>\n",
       "      <td>AM</td>\n",
       "      <td>-</td>\n",
       "      <td>Class</td>\n",
       "      <td>1</td>\n",
       "      <td>Mod</td>\n",
       "      <td>2</td>\n",
       "      <td>2022-07-27</td>\n",
       "      <td>11:00:00 AM</td>\n",
       "      <td>Class 1</td>\n",
       "      <td>Mod 2</td>\n",
       "    </tr>\n",
       "    <tr>\n",
       "      <th>3</th>\n",
       "      <td>2022-07-28</td>\n",
       "      <td>11:00:00</td>\n",
       "      <td>AM</td>\n",
       "      <td>-</td>\n",
       "      <td>Class</td>\n",
       "      <td>1</td>\n",
       "      <td>Mod</td>\n",
       "      <td>3</td>\n",
       "      <td>2022-07-28</td>\n",
       "      <td>11:00:00 AM</td>\n",
       "      <td>Class 1</td>\n",
       "      <td>Mod 3</td>\n",
       "    </tr>\n",
       "    <tr>\n",
       "      <th>4</th>\n",
       "      <td>2022-07-29</td>\n",
       "      <td>11:00:00</td>\n",
       "      <td>AM</td>\n",
       "      <td>-</td>\n",
       "      <td>Class</td>\n",
       "      <td>1</td>\n",
       "      <td>Mod</td>\n",
       "      <td>4</td>\n",
       "      <td>2022-07-29</td>\n",
       "      <td>11:00:00 AM</td>\n",
       "      <td>Class 1</td>\n",
       "      <td>Mod 4</td>\n",
       "    </tr>\n",
       "  </tbody>\n",
       "</table>\n",
       "</div>"
      ],
      "text/plain": [
       "            0         1   2  3      4  5    6  7        Date   Class Time  \\\n",
       "0  2022-07-25  11:00:00  AM  -  Class  1  Mod  1  2022-07-25  11:00:00 AM   \n",
       "1  2022-07-26  11:00:00  AM  -  Class  1  Mod  1  2022-07-26  11:00:00 AM   \n",
       "2  2022-07-27  11:00:00  AM  -  Class  1  Mod  2  2022-07-27  11:00:00 AM   \n",
       "3  2022-07-28  11:00:00  AM  -  Class  1  Mod  3  2022-07-28  11:00:00 AM   \n",
       "4  2022-07-29  11:00:00  AM  -  Class  1  Mod  4  2022-07-29  11:00:00 AM   \n",
       "\n",
       "  Class Name Class Mode  \n",
       "0    Class 1      Mod 1  \n",
       "1    Class 1      Mod 1  \n",
       "2    Class 1      Mod 2  \n",
       "3    Class 1      Mod 3  \n",
       "4    Class 1      Mod 4  "
      ]
     },
     "execution_count": 3,
     "metadata": {},
     "output_type": "execute_result"
    }
   ],
   "source": [
    "df.head()"
   ]
  },
  {
   "cell_type": "code",
   "execution_count": 4,
   "id": "0a893409",
   "metadata": {},
   "outputs": [],
   "source": [
    "# let us drop all other unnecessary columns from 0 to 7\n",
    "\n",
    "df.drop([0,1,2,3,4,5,6,7],axis = 1, inplace = True )"
   ]
  },
  {
   "cell_type": "code",
   "execution_count": 5,
   "id": "1fed854a",
   "metadata": {},
   "outputs": [
    {
     "data": {
      "text/html": [
       "<div>\n",
       "<style scoped>\n",
       "    .dataframe tbody tr th:only-of-type {\n",
       "        vertical-align: middle;\n",
       "    }\n",
       "\n",
       "    .dataframe tbody tr th {\n",
       "        vertical-align: top;\n",
       "    }\n",
       "\n",
       "    .dataframe thead th {\n",
       "        text-align: right;\n",
       "    }\n",
       "</style>\n",
       "<table border=\"1\" class=\"dataframe\">\n",
       "  <thead>\n",
       "    <tr style=\"text-align: right;\">\n",
       "      <th></th>\n",
       "      <th>Date</th>\n",
       "      <th>Class Time</th>\n",
       "      <th>Class Name</th>\n",
       "      <th>Class Mode</th>\n",
       "    </tr>\n",
       "  </thead>\n",
       "  <tbody>\n",
       "    <tr>\n",
       "      <th>0</th>\n",
       "      <td>2022-07-25</td>\n",
       "      <td>11:00:00 AM</td>\n",
       "      <td>Class 1</td>\n",
       "      <td>Mod 1</td>\n",
       "    </tr>\n",
       "    <tr>\n",
       "      <th>1</th>\n",
       "      <td>2022-07-26</td>\n",
       "      <td>11:00:00 AM</td>\n",
       "      <td>Class 1</td>\n",
       "      <td>Mod 1</td>\n",
       "    </tr>\n",
       "    <tr>\n",
       "      <th>2</th>\n",
       "      <td>2022-07-27</td>\n",
       "      <td>11:00:00 AM</td>\n",
       "      <td>Class 1</td>\n",
       "      <td>Mod 2</td>\n",
       "    </tr>\n",
       "    <tr>\n",
       "      <th>3</th>\n",
       "      <td>2022-07-28</td>\n",
       "      <td>11:00:00 AM</td>\n",
       "      <td>Class 1</td>\n",
       "      <td>Mod 3</td>\n",
       "    </tr>\n",
       "    <tr>\n",
       "      <th>4</th>\n",
       "      <td>2022-07-29</td>\n",
       "      <td>11:00:00 AM</td>\n",
       "      <td>Class 1</td>\n",
       "      <td>Mod 4</td>\n",
       "    </tr>\n",
       "  </tbody>\n",
       "</table>\n",
       "</div>"
      ],
      "text/plain": [
       "         Date   Class Time Class Name Class Mode\n",
       "0  2022-07-25  11:00:00 AM    Class 1      Mod 1\n",
       "1  2022-07-26  11:00:00 AM    Class 1      Mod 1\n",
       "2  2022-07-27  11:00:00 AM    Class 1      Mod 2\n",
       "3  2022-07-28  11:00:00 AM    Class 1      Mod 3\n",
       "4  2022-07-29  11:00:00 AM    Class 1      Mod 4"
      ]
     },
     "execution_count": 5,
     "metadata": {},
     "output_type": "execute_result"
    }
   ],
   "source": [
    "df.head()"
   ]
  },
  {
   "cell_type": "markdown",
   "id": "16bf9bef",
   "metadata": {},
   "source": [
    "Let us convert the given Date format to pandas date format for better usecases"
   ]
  },
  {
   "cell_type": "code",
   "execution_count": 7,
   "id": "2af3185c",
   "metadata": {},
   "outputs": [
    {
     "data": {
      "text/html": [
       "<div>\n",
       "<style scoped>\n",
       "    .dataframe tbody tr th:only-of-type {\n",
       "        vertical-align: middle;\n",
       "    }\n",
       "\n",
       "    .dataframe tbody tr th {\n",
       "        vertical-align: top;\n",
       "    }\n",
       "\n",
       "    .dataframe thead th {\n",
       "        text-align: right;\n",
       "    }\n",
       "</style>\n",
       "<table border=\"1\" class=\"dataframe\">\n",
       "  <thead>\n",
       "    <tr style=\"text-align: right;\">\n",
       "      <th></th>\n",
       "      <th>Date</th>\n",
       "      <th>Class Time</th>\n",
       "      <th>Class Name</th>\n",
       "      <th>Class Mode</th>\n",
       "    </tr>\n",
       "  </thead>\n",
       "  <tbody>\n",
       "    <tr>\n",
       "      <th>0</th>\n",
       "      <td>2022-07-25</td>\n",
       "      <td>11:00:00 AM</td>\n",
       "      <td>Class 1</td>\n",
       "      <td>Mod 1</td>\n",
       "    </tr>\n",
       "    <tr>\n",
       "      <th>1</th>\n",
       "      <td>2022-07-26</td>\n",
       "      <td>11:00:00 AM</td>\n",
       "      <td>Class 1</td>\n",
       "      <td>Mod 1</td>\n",
       "    </tr>\n",
       "    <tr>\n",
       "      <th>2</th>\n",
       "      <td>2022-07-27</td>\n",
       "      <td>11:00:00 AM</td>\n",
       "      <td>Class 1</td>\n",
       "      <td>Mod 2</td>\n",
       "    </tr>\n",
       "    <tr>\n",
       "      <th>3</th>\n",
       "      <td>2022-07-28</td>\n",
       "      <td>11:00:00 AM</td>\n",
       "      <td>Class 1</td>\n",
       "      <td>Mod 3</td>\n",
       "    </tr>\n",
       "    <tr>\n",
       "      <th>4</th>\n",
       "      <td>2022-07-29</td>\n",
       "      <td>11:00:00 AM</td>\n",
       "      <td>Class 1</td>\n",
       "      <td>Mod 4</td>\n",
       "    </tr>\n",
       "  </tbody>\n",
       "</table>\n",
       "</div>"
      ],
      "text/plain": [
       "        Date   Class Time Class Name Class Mode\n",
       "0 2022-07-25  11:00:00 AM    Class 1      Mod 1\n",
       "1 2022-07-26  11:00:00 AM    Class 1      Mod 1\n",
       "2 2022-07-27  11:00:00 AM    Class 1      Mod 2\n",
       "3 2022-07-28  11:00:00 AM    Class 1      Mod 3\n",
       "4 2022-07-29  11:00:00 AM    Class 1      Mod 4"
      ]
     },
     "execution_count": 7,
     "metadata": {},
     "output_type": "execute_result"
    }
   ],
   "source": [
    "df['Date'] = pd.to_datetime(df['Date'])\n",
    "\n",
    "df.head()"
   ]
  },
  {
   "cell_type": "markdown",
   "id": "5bfda8cd",
   "metadata": {},
   "source": [
    "Now the dataframe is clean and ready to be worked upon"
   ]
  },
  {
   "cell_type": "code",
   "execution_count": 9,
   "id": "9d20eb3a",
   "metadata": {},
   "outputs": [],
   "source": [
    "# let us save this clean csv file for using it later on\n",
    "\n",
    "df.to_csv('~/Desktop/Data/Email Automation Project/schedule_cleaned.csv',index = False)"
   ]
  },
  {
   "cell_type": "markdown",
   "id": "415e24ab",
   "metadata": {},
   "source": [
    "## Python Code for Setting Mails"
   ]
  },
  {
   "cell_type": "markdown",
   "id": "a050e141",
   "metadata": {},
   "source": [
    "Python script for reading the file and setting the mail reminders as per the time mentioned\n"
   ]
  },
  {
   "cell_type": "code",
   "execution_count": 10,
   "id": "36fa2623",
   "metadata": {},
   "outputs": [
    {
     "data": {
      "text/html": [
       "<div>\n",
       "<style scoped>\n",
       "    .dataframe tbody tr th:only-of-type {\n",
       "        vertical-align: middle;\n",
       "    }\n",
       "\n",
       "    .dataframe tbody tr th {\n",
       "        vertical-align: top;\n",
       "    }\n",
       "\n",
       "    .dataframe thead th {\n",
       "        text-align: right;\n",
       "    }\n",
       "</style>\n",
       "<table border=\"1\" class=\"dataframe\">\n",
       "  <thead>\n",
       "    <tr style=\"text-align: right;\">\n",
       "      <th></th>\n",
       "      <th>Date</th>\n",
       "      <th>Class Time</th>\n",
       "      <th>Class Name</th>\n",
       "      <th>Class Mode</th>\n",
       "    </tr>\n",
       "  </thead>\n",
       "  <tbody>\n",
       "    <tr>\n",
       "      <th>0</th>\n",
       "      <td>2022-07-25</td>\n",
       "      <td>11:00:00 AM</td>\n",
       "      <td>Class 1</td>\n",
       "      <td>Mod 1</td>\n",
       "    </tr>\n",
       "    <tr>\n",
       "      <th>1</th>\n",
       "      <td>2022-07-26</td>\n",
       "      <td>11:00:00 AM</td>\n",
       "      <td>Class 1</td>\n",
       "      <td>Mod 1</td>\n",
       "    </tr>\n",
       "    <tr>\n",
       "      <th>2</th>\n",
       "      <td>2022-07-27</td>\n",
       "      <td>11:00:00 AM</td>\n",
       "      <td>Class 1</td>\n",
       "      <td>Mod 2</td>\n",
       "    </tr>\n",
       "    <tr>\n",
       "      <th>3</th>\n",
       "      <td>2022-07-28</td>\n",
       "      <td>11:00:00 AM</td>\n",
       "      <td>Class 1</td>\n",
       "      <td>Mod 3</td>\n",
       "    </tr>\n",
       "    <tr>\n",
       "      <th>4</th>\n",
       "      <td>2022-07-29</td>\n",
       "      <td>11:00:00 AM</td>\n",
       "      <td>Class 1</td>\n",
       "      <td>Mod 4</td>\n",
       "    </tr>\n",
       "  </tbody>\n",
       "</table>\n",
       "</div>"
      ],
      "text/plain": [
       "         Date   Class Time Class Name Class Mode\n",
       "0  2022-07-25  11:00:00 AM    Class 1      Mod 1\n",
       "1  2022-07-26  11:00:00 AM    Class 1      Mod 1\n",
       "2  2022-07-27  11:00:00 AM    Class 1      Mod 2\n",
       "3  2022-07-28  11:00:00 AM    Class 1      Mod 3\n",
       "4  2022-07-29  11:00:00 AM    Class 1      Mod 4"
      ]
     },
     "execution_count": 10,
     "metadata": {},
     "output_type": "execute_result"
    }
   ],
   "source": [
    "# opening the cleaned csv file \n",
    "\n",
    "class_schedule = pd.read_csv('~/Desktop/Data/Email Automation Project/schedule_cleaned.csv')\n",
    "\n",
    "class_schedule.head()\n"
   ]
  },
  {
   "cell_type": "code",
   "execution_count": 26,
   "id": "0345dd84",
   "metadata": {},
   "outputs": [
    {
     "data": {
      "text/plain": [
       "datetime.date(2022, 8, 17)"
      ]
     },
     "execution_count": 26,
     "metadata": {},
     "output_type": "execute_result"
    }
   ],
   "source": [
    "# importing necessary libraries for email set up\n",
    "\n",
    "import smtplib\n",
    "from email.mime.multipart import MIMEMultipart\n",
    "from email.mime.text import MIMEText\n",
    "\n",
    "# setting up a variable for todays date\n",
    "\n",
    "today = pd.Timestamp(\"today\")\n",
    "\n",
    "today.date()"
   ]
  },
  {
   "cell_type": "code",
   "execution_count": 17,
   "id": "eca9f4bf",
   "metadata": {},
   "outputs": [],
   "source": [
    "#  Set up the MIME\n",
    "\n",
    "sender_address = 'rajatchauhan99@gmail.com'\n",
    "\n",
    "sender_pass = '********'\n",
    "\n",
    "# Note: You may have to use app passwords that can be generated from the google account\n",
    "\n",
    "receiver_address = 't19030@students.iitmandi.ac.in'\n",
    "\n",
    "\n",
    "message = MIMEMultipart()\n",
    "message['From'] = sender_address\n",
    "message['To'] = receiver_address\n",
    "message['Subject'] = 'OneLearn course series reminder'  # The subject line\n",
    "\n",
    "\n",
    "# using time delta to do some algebra with dates\n",
    "\n",
    "one_day = timedelta(days=1)\n"
   ]
  },
  {
   "cell_type": "code",
   "execution_count": 22,
   "id": "0ed0d2bc",
   "metadata": {},
   "outputs": [
    {
     "data": {
      "text/plain": [
       "2"
      ]
     },
     "execution_count": 22,
     "metadata": {},
     "output_type": "execute_result"
    }
   ],
   "source": [
    "# code to check the weekday of today\n",
    "\n",
    "today.weekday()"
   ]
  },
  {
   "cell_type": "markdown",
   "id": "5027cd1d",
   "metadata": {},
   "source": [
    "this shows weekday count as 2 as today is Wednesday"
   ]
  },
  {
   "cell_type": "markdown",
   "id": "dd6450fe",
   "metadata": {},
   "source": [
    "Now let us see the number of date records we have in the given dataset"
   ]
  },
  {
   "cell_type": "code",
   "execution_count": 24,
   "id": "37ef5212",
   "metadata": {},
   "outputs": [
    {
     "data": {
      "text/plain": [
       "266"
      ]
     },
     "execution_count": 24,
     "metadata": {},
     "output_type": "execute_result"
    }
   ],
   "source": [
    "len(class_schedule['Date'])"
   ]
  },
  {
   "cell_type": "code",
   "execution_count": 39,
   "id": "6f04a246",
   "metadata": {},
   "outputs": [
    {
     "data": {
      "text/plain": [
       "'11:00:00 AM'"
      ]
     },
     "execution_count": 39,
     "metadata": {},
     "output_type": "execute_result"
    }
   ],
   "source": [
    "str(class_schedule['Class Time'][265])"
   ]
  },
  {
   "cell_type": "code",
   "execution_count": 41,
   "id": "ad2c9d1a",
   "metadata": {},
   "outputs": [],
   "source": [
    "if today.weekday()<4:\n",
    "    for i in range(len(class_schedule['Date'])):\n",
    "        if class_schedule['Date'][i] ==  today.date() + one_day:\n",
    "            mail_content = \"Hello,\\nThis is a reminder mail for your class \" + str(class_schedule['Class Name'][i]) + \" on \" + str(class_schedule['Date'][i]) + \" at \" + str(class_schedule['Class Time'][i]) + \"\\nPlease join the class on time.\"\n",
    "            # The body and the attachments for the mail\n",
    "            message.attach(MIMEText(mail_content, 'plain'))\n",
    "            # Create SMTP session for sending the mail\n",
    "            session = smtplib.SMTP('smtp.gmail.com', 587)  # use gmail with port\n",
    "            session.starttls()  # enable security\n",
    "            session.login(sender_address, sender_pass)  # login with mail_id and password\n",
    "            text = message.as_string()\n",
    "            session.sendmail(sender_address, receiver_address, text)\n",
    "            session.quit()\n",
    "            print('Mail Sent')\n",
    "            \n",
    "        "
   ]
  },
  {
   "cell_type": "code",
   "execution_count": 44,
   "id": "8ba50d23",
   "metadata": {},
   "outputs": [],
   "source": [
    "# if the weekday is friday we need to send the notification for next class on monday if there is any, so based on that if condition being used.\n",
    "\n",
    "if today.weekday() == 4: # means it is a friday\n",
    "     for i in range(len(class_schedule['Date'])):\n",
    "        if class_schedule['Date'][i] ==  today.date() + 3*one_day:\n",
    "            mail_content = \"Hello,\\nThis is a reminder mail for your class \" + str(class_schedule['Class Name'][i]) + \" on \" + str(class_schedule['Date'][i]) + \" at \" + str(class_schedule['Class Time'][i]) + \"\\nPlease join the class on time.\"\n",
    "            # The body and the attachments for the mail\n",
    "            message.attach(MIMEText(mail_content, 'plain'))\n",
    "            # Create SMTP session for sending the mail\n",
    "            session = smtplib.SMTP('smtp.gmail.com', 587)  # use gmail with port\n",
    "            session.starttls()  # enable security\n",
    "            session.login(sender_address, sender_pass)  # login with mail_id and password\n",
    "            text = message.as_string()\n",
    "            session.sendmail(sender_address, receiver_address, text)\n",
    "            session.quit()\n",
    "            print('Mail Sent')"
   ]
  },
  {
   "cell_type": "markdown",
   "id": "f7fb423c",
   "metadata": {},
   "source": [
    "## Auto-schedule Python Scipts using Crontab (For Mac Users)"
   ]
  },
  {
   "cell_type": "markdown",
   "id": "b5be0f37",
   "metadata": {},
   "source": [
    "Steps Followed to create the Python Script;\n",
    "\n",
    "1. Open Terminal;\n",
    "2. Write crontab -e to create crontab;\n",
    "3. Press i to launch edit mode;\n",
    "4. Write the schedule command * * * * * /usr/bin/python /path/to/file/<FILENAME>.py;\n",
    "5. Press esc to exit edit mode;\n",
    "6. Write :wq to write your crontab\n",
    "7. To delete the running job:\n",
    "* To delete the entire crontab: Run crontab -r\n",
    "* To delete a single cron job: Go to crontab -e, press i, press dd and press :wq to write the file."
   ]
  },
  {
   "cell_type": "markdown",
   "id": "84564b60",
   "metadata": {},
   "source": [
    "Best Site Which explains this: https://www.jcchouinard.com/python-automation-with-cron-on-mac/ "
   ]
  },
  {
   "cell_type": "markdown",
   "id": "8061a0e2",
   "metadata": {},
   "source": [
    "same can be done in windows by using Windows Task Scheduler"
   ]
  }
 ],
 "metadata": {
  "kernelspec": {
   "display_name": "Python 3 (ipykernel)",
   "language": "python",
   "name": "python3"
  },
  "language_info": {
   "codemirror_mode": {
    "name": "ipython",
    "version": 3
   },
   "file_extension": ".py",
   "mimetype": "text/x-python",
   "name": "python",
   "nbconvert_exporter": "python",
   "pygments_lexer": "ipython3",
   "version": "3.9.12"
  }
 },
 "nbformat": 4,
 "nbformat_minor": 5
}
